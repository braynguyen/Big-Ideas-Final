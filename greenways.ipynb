{
 "cells": [
  {
   "cell_type": "code",
   "execution_count": null,
   "metadata": {},
   "outputs": [],
   "source": [
    "import pandas as pd\n",
    "import numpy as np\n",
    "%matplotlib inline\n",
    "import matplotlib.pyplot as plt"
   ]
  },
  {
   "cell_type": "code",
   "execution_count": null,
   "metadata": {},
   "outputs": [],
   "source": [
    "#counts\n",
    "data = pd.read_csv(\"greenways.csv\", sep=',')\n",
    "\n",
    "data.head()\n",
    "\n",
    "neighborhoods = data['neighborhood']\n",
    "count = {}\n",
    "#adding all the neighborhoods to the array\n",
    "for name in neighborhoods:\n",
    "    if name in count:\n",
    "        count[name] = count.get(name) + 1\n",
    "    else:\n",
    "        count[name] = 1\n",
    "\n",
    "#printing the neighborhood and number of public parks\n",
    "keys = list(count.keys())\n",
    "values = list(count.values())\n",
    "sorted_value_index = np.argsort(values)[::-1]\n",
    "sorted_dict = {keys[i]: values[i] for i in sorted_value_index}\n",
    "for x, y in sorted_dict.items():\n",
    "    print(x, \":\", y)"
   ]
  },
  {
   "cell_type": "code",
   "execution_count": null,
   "metadata": {},
   "outputs": [],
   "source": [
    "import matplotlib.pyplot as plt\n",
    "\n",
    "names = list(sorted_dict.keys())[0:10]\n",
    "values = list(sorted_dict.values())[0:10]\n",
    "\n",
    "plt.bar(range(len(names)), values, width = 0.4, tick_label=names)\n",
    "plt.xlabel(\"Neighborhood\")\n",
    "plt.ylabel(\"Count\")\n",
    "plt.title(\"Number of Greenways in Each Neighborhood\")\n",
    "plt.xticks(rotation = 90)\n",
    "plt.show()"
   ]
  },
  {
   "cell_type": "code",
   "execution_count": null,
   "metadata": {},
   "outputs": [],
   "source": [
    "import matplotlib.pyplot as plt\n",
    "\n",
    "names = list(sorted_dict.keys())[0:10]\n",
    "values = list(sorted_dict.values())[0:10]\n",
    "total = data['neighborhood'].size\n",
    "\n",
    "for i in range(len(values)):\n",
    "    values[i] = values[i] / total\n",
    "\n",
    "plt.bar(range(len(names)), values, width = 0.4, tick_label=names)\n",
    "plt.xlabel(\"Neighborhood\")\n",
    "plt.ylabel(\"Percent\")\n",
    "plt.title(\"Number of Greenways in Each Nneighborhood\")\n",
    "plt.xticks(rotation = 90)\n",
    "plt.show()"
   ]
  },
  {
   "cell_type": "code",
   "execution_count": null,
   "metadata": {},
   "outputs": [],
   "source": []
  }
 ],
 "metadata": {
  "kernelspec": {
   "display_name": "Python 3",
   "language": "python",
   "name": "python3"
  },
  "language_info": {
   "codemirror_mode": {
    "name": "ipython",
    "version": 3
   },
   "file_extension": ".py",
   "mimetype": "text/x-python",
   "name": "python",
   "nbconvert_exporter": "python",
   "pygments_lexer": "ipython3",
   "version": "3.8.3"
  }
 },
 "nbformat": 4,
 "nbformat_minor": 4
}
