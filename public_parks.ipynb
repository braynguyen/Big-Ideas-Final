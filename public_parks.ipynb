{
 "cells": [
  {
   "cell_type": "markdown",
   "metadata": {},
   "source": [
    "## Visualizing Public Art"
   ]
  },
  {
   "cell_type": "code",
   "execution_count": 1,
   "metadata": {},
   "outputs": [],
   "source": [
    "import pandas as pd\n",
    "import numpy as np\n",
    "%matplotlib inline\n",
    "import matplotlib.pyplot as plt"
   ]
  },
  {
   "cell_type": "code",
   "execution_count": 28,
   "metadata": {},
   "outputs": [
    {
     "name": "stdout",
     "output_type": "stream",
     "text": [
      "Central Business District : 27\n",
      "Squirrel Hill South : 20\n",
      "Allegheny Center : 18\n",
      "Highland Park : 10\n",
      "South Side Flats : 9\n",
      "North Shore : 8\n",
      "Beechview : 7\n",
      "Shadyside : 6\n",
      "Lower Lawrenceville : 5\n",
      "Brighton Heights : 5\n",
      "Central Oakland : 5\n",
      "Spring Hill-City View : 4\n",
      "South Side Slopes : 3\n",
      "Duquesne Heights : 3\n",
      "Elliott : 3\n",
      "Greenfield : 3\n",
      "Crawford-Roberts : 3\n",
      "Point Breeze : 3\n",
      "Hazelwood : 3\n",
      "Beltzhoover : 3\n",
      "East Allegheny : 2\n",
      "Strip District : 2\n",
      "Mount Washington : 2\n",
      "Squirrel Hill North : 2\n",
      "West End : 2\n",
      "Lincoln-Lemington-Belmar : 2\n",
      "Upper Hill : 2\n",
      "Garfield : 2\n",
      "Central Lawrenceville : 2\n",
      "Allentown : 2\n",
      "Perry North : 2\n",
      "nan : 2\n",
      "Spring Garden : 2\n",
      "Brookline : 2\n",
      "Carrick : 2\n",
      "Manchester : 1\n",
      "Allegheny West : 1\n",
      "Hays : 1\n",
      "Overbrook : 1\n",
      "Esplen : 1\n",
      "Crafton Heights : 1\n",
      "Troy Hill : 1\n",
      "Swisshelm Park : 1\n",
      "Sheraden : 1\n",
      "Regent Square : 1\n",
      "Polish Hill : 1\n",
      "East Hills : 1\n",
      "North Oakland : 1\n",
      "East Carnegie : 1\n",
      "Bloomfield : 1\n",
      "East Liberty : 1\n",
      "Stanton Heights : 1\n",
      "Upper Lawrenceville : 1\n",
      "Perry South : 1\n",
      "Knoxville : 1\n",
      "Oakwood : 1\n"
     ]
    }
   ],
   "source": [
    "data = pd.read_csv(\"public_parks.csv\", sep=',')\n",
    "\n",
    "data.head()\n",
    "\n",
    "neighborhoods = data['neighborhood']\n",
    "count = {}\n",
    "#adding all the neighborhoods to the array\n",
    "for name in neighborhoods:\n",
    "    if name in count:\n",
    "        count[name] = count.get(name) + 1\n",
    "    else:\n",
    "        count[name] = 1\n",
    "\n",
    "#printing the neighborhood and number of public parks\n",
    "keys = list(count.keys())\n",
    "values = list(count.values())\n",
    "sorted_value_index = np.argsort(values)[::-1]\n",
    "sorted_dict = {keys[i]: values[i] for i in sorted_value_index}\n",
    "for x, y in sorted_dict.items():\n",
    "    print(x, \":\", y)"
   ]
  },
  {
   "cell_type": "code",
   "execution_count": 49,
   "metadata": {},
   "outputs": [
    {
     "data": {
      "image/png": "[encoded data removed]",
      "text/plain": [
       "<Figure size 432x288 with 1 Axes>"
      ]
     },
     "metadata": {
      "needs_background": "light"
     },
     "output_type": "display_data"
    }
   ],
   "source": [
    "import matplotlib.pyplot as plt\n",
    "\n",
    "names = list(sorted_dict.keys())[0:10]\n",
    "values = list(sorted_dict.values())[0:10]\n",
    "\n",
    "plt.bar(range(len(names)), values, width = 0.4, tick_label=names)\n",
    "plt.xlabel(\"Neighborhood\")\n",
    "plt.ylabel(\"Count\")\n",
    "plt.title(\"Number of Public Parks in each neighborhood\")\n",
    "plt.xticks(rotation = 90)\n",
    "plt.show()"
   ]
  },
  {
   "cell_type": "code",
   "execution_count": null,
   "metadata": {},
   "outputs": [],
   "source": []
  }
 ],
 "metadata": {
  "kernelspec": {
   "display_name": "Python 3",
   "language": "python",
   "name": "python3"
  },
  "language_info": {
   "codemirror_mode": {
    "name": "ipython",
    "version": 3
   },
   "file_extension": ".py",
   "mimetype": "text/x-python",
   "name": "python",
   "nbconvert_exporter": "python",
   "pygments_lexer": "ipython3",
   "version": "3.8.3"
  }
 },
 "nbformat": 4,
 "nbformat_minor": 4
}
